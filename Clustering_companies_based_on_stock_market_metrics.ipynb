{
  "nbformat": 4,
  "nbformat_minor": 0,
  "metadata": {
    "colab": {
      "provenance": []
    },
    "kernelspec": {
      "name": "python3",
      "display_name": "Python 3"
    },
    "language_info": {
      "name": "python"
    }
  },
  "cells": [
    {
      "cell_type": "markdown",
      "source": [
        "# importing libraries"
      ],
      "metadata": {
        "id": "A812RHYdHcRY"
      }
    },
    {
      "cell_type": "code",
      "execution_count": null,
      "metadata": {
        "id": "zYMuu5zuR_Z9"
      },
      "outputs": [],
      "source": [
        "import numpy as np\n",
        "import pandas as pd\n",
        "import requests\n",
        "import json\n",
        "from io import StringIO\n",
        "\n",
        "from matplotlib import pyplot as plt\n",
        "\n",
        "from sklearn import preprocessing\n",
        "from sklearn.preprocessing import StandardScaler\n"
      ]
    },
    {
      "cell_type": "markdown",
      "source": [
        "# creating input data"
      ],
      "metadata": {
        "id": "Bvm4ZqrCHh37"
      }
    },
    {
      "cell_type": "code",
      "source": [
        "def calculate_metrics(ticker):\n",
        "    # Fetch price data\n",
        "    price_url = f'https://eodhd.com/api/eod/{ticker}.US?from=2022-01-01&to=2022-12-31&period=d&api_token=6156f2d1c12e19.46412053&fmt=csv'\n",
        "    price_data = requests.get(price_url).content\n",
        "    df_price = pd.read_csv(StringIO(price_data.decode()))\n",
        "\n",
        "    # Calculate Return\n",
        "    df_price['Return'] = df_price['Adjusted_close'].pct_change()\n",
        "    average_return = df_price['Return'].mean()\n",
        "\n",
        "    # Calculate Volatility\n",
        "    volatility = df_price['Adjusted_close'].pct_change().rolling(window=(len(df_price) - 1)).std().iloc[-1]\n",
        "\n",
        "    # Fetch dividend data\n",
        "    dividend_url = f'https://eodhd.com/api/div/{ticker}.US?from=2022-01-01&to=2022-12-31&api_token=6156f2d1c12e19.46412053&fmt=json'\n",
        "    dividend_data = requests.get(dividend_url).json()\n",
        "    annual_dividend = sum(item['value'] for item in dividend_data)\n",
        "\n",
        "    # Calculate Dividend Yield\n",
        "    dividend_yield = (annual_dividend / average_return) * 100\n",
        "\n",
        "    # Return a Series with the results\n",
        "    return pd.Series({\n",
        "        'Ticker': ticker,\n",
        "        'Return': average_return,\n",
        "        'Volatility': volatility,\n",
        "        'Dividend_Yield': dividend_yield\n",
        "    })"
      ],
      "metadata": {
        "id": "FIpFSTjS1hzz"
      },
      "execution_count": null,
      "outputs": []
    },
    {
      "cell_type": "code",
      "source": [
        "tickers =[\n",
        "    'MMM', 'AOS', 'ABT', 'ABBV', 'ACN', 'ADM', 'ADBE', 'ADP', 'AES', 'AFL',\n",
        "    'A', 'ABNB', 'APD', 'AKAM', 'ALK', 'ALB', 'ARE', 'ALGN', 'ALLE', 'LNT',\n",
        "    'ALL', 'GOOGL', 'GOOG', 'MO', 'AMZN', 'AMCR', 'AMD', 'AEE', 'AAL', 'AEP',\n",
        "    'AXP', 'AIG', 'AMT', 'AWK', 'AMP', 'AME', 'AMGN', 'APH', 'ADI', 'ANSS',\n",
        "    'AON', 'APA', 'AAPL', 'AMAT', 'APTV', 'ACGL', 'ANET', 'AJG', 'AIZ', 'T',\n",
        "    'ATO', 'ADSK', 'AZO', 'AVB', 'AVY', 'AXON', 'BKR', 'BALL', 'BAC', 'BBWI',\n",
        "    'BAX', 'BDX', 'WRB', 'BRK-B', 'BBY', 'BIO', 'TECH', 'BIIB', 'BLK', 'BX',\n",
        "    'BK', 'BA', 'BKNG', 'BWA', 'BXP', 'BSX', 'BMY', 'AVGO', 'BR', 'BRO',\n",
        "    'BF-B', 'BG', 'CHRW', 'CDNS', 'CZR', 'CPT', 'CPB', 'COF', 'CAH', 'KMX',\n",
        "    'CCL', 'CARR', 'CTLT', 'CAT', 'CBOE', 'CBRE', 'CDW', 'CE', 'COR', 'CNC'\n",
        "]"
      ],
      "metadata": {
        "id": "z50ukPSX1vsz"
      },
      "execution_count": null,
      "outputs": []
    },
    {
      "cell_type": "code",
      "source": [
        "ticker_metric_data = pd.DataFrame()\n",
        "\n",
        "# Iterate over tickers and calculate metrics for each\n",
        "for ticker in tickers:\n",
        "    result_df_ticker = calculate_metrics(ticker)\n",
        "    ticker_metric_data = ticker_metric_data.append(result_df_ticker, ignore_index=True)"
      ],
      "metadata": {
        "colab": {
          "base_uri": "https://localhost:8080/"
        },
        "id": "w2QvtPdG143t",
        "outputId": "0d3f0517-70fc-4328-a8a0-01b2ded7a585"
      },
      "execution_count": null,
      "outputs": [
        {
          "output_type": "stream",
          "name": "stderr",
          "text": [
            "<ipython-input-4-7c6545ffcfb5>:6: FutureWarning: The frame.append method is deprecated and will be removed from pandas in a future version. Use pandas.concat instead.\n",
            "  ticker_metric_data = ticker_metric_data.append(result_df_ticker, ignore_index=True)\n",
            "<ipython-input-4-7c6545ffcfb5>:6: FutureWarning: The frame.append method is deprecated and will be removed from pandas in a future version. Use pandas.concat instead.\n",
            "  ticker_metric_data = ticker_metric_data.append(result_df_ticker, ignore_index=True)\n",
            "<ipython-input-4-7c6545ffcfb5>:6: FutureWarning: The frame.append method is deprecated and will be removed from pandas in a future version. Use pandas.concat instead.\n",
            "  ticker_metric_data = ticker_metric_data.append(result_df_ticker, ignore_index=True)\n",
            "<ipython-input-4-7c6545ffcfb5>:6: FutureWarning: The frame.append method is deprecated and will be removed from pandas in a future version. Use pandas.concat instead.\n",
            "  ticker_metric_data = ticker_metric_data.append(result_df_ticker, ignore_index=True)\n",
            "<ipython-input-4-7c6545ffcfb5>:6: FutureWarning: The frame.append method is deprecated and will be removed from pandas in a future version. Use pandas.concat instead.\n",
            "  ticker_metric_data = ticker_metric_data.append(result_df_ticker, ignore_index=True)\n",
            "<ipython-input-4-7c6545ffcfb5>:6: FutureWarning: The frame.append method is deprecated and will be removed from pandas in a future version. Use pandas.concat instead.\n",
            "  ticker_metric_data = ticker_metric_data.append(result_df_ticker, ignore_index=True)\n",
            "<ipython-input-4-7c6545ffcfb5>:6: FutureWarning: The frame.append method is deprecated and will be removed from pandas in a future version. Use pandas.concat instead.\n",
            "  ticker_metric_data = ticker_metric_data.append(result_df_ticker, ignore_index=True)\n",
            "<ipython-input-4-7c6545ffcfb5>:6: FutureWarning: The frame.append method is deprecated and will be removed from pandas in a future version. Use pandas.concat instead.\n",
            "  ticker_metric_data = ticker_metric_data.append(result_df_ticker, ignore_index=True)\n",
            "<ipython-input-4-7c6545ffcfb5>:6: FutureWarning: The frame.append method is deprecated and will be removed from pandas in a future version. Use pandas.concat instead.\n",
            "  ticker_metric_data = ticker_metric_data.append(result_df_ticker, ignore_index=True)\n",
            "<ipython-input-4-7c6545ffcfb5>:6: FutureWarning: The frame.append method is deprecated and will be removed from pandas in a future version. Use pandas.concat instead.\n",
            "  ticker_metric_data = ticker_metric_data.append(result_df_ticker, ignore_index=True)\n",
            "<ipython-input-4-7c6545ffcfb5>:6: FutureWarning: The frame.append method is deprecated and will be removed from pandas in a future version. Use pandas.concat instead.\n",
            "  ticker_metric_data = ticker_metric_data.append(result_df_ticker, ignore_index=True)\n",
            "<ipython-input-4-7c6545ffcfb5>:6: FutureWarning: The frame.append method is deprecated and will be removed from pandas in a future version. Use pandas.concat instead.\n",
            "  ticker_metric_data = ticker_metric_data.append(result_df_ticker, ignore_index=True)\n",
            "<ipython-input-4-7c6545ffcfb5>:6: FutureWarning: The frame.append method is deprecated and will be removed from pandas in a future version. Use pandas.concat instead.\n",
            "  ticker_metric_data = ticker_metric_data.append(result_df_ticker, ignore_index=True)\n",
            "<ipython-input-4-7c6545ffcfb5>:6: FutureWarning: The frame.append method is deprecated and will be removed from pandas in a future version. Use pandas.concat instead.\n",
            "  ticker_metric_data = ticker_metric_data.append(result_df_ticker, ignore_index=True)\n",
            "<ipython-input-4-7c6545ffcfb5>:6: FutureWarning: The frame.append method is deprecated and will be removed from pandas in a future version. Use pandas.concat instead.\n",
            "  ticker_metric_data = ticker_metric_data.append(result_df_ticker, ignore_index=True)\n",
            "<ipython-input-4-7c6545ffcfb5>:6: FutureWarning: The frame.append method is deprecated and will be removed from pandas in a future version. Use pandas.concat instead.\n",
            "  ticker_metric_data = ticker_metric_data.append(result_df_ticker, ignore_index=True)\n",
            "<ipython-input-4-7c6545ffcfb5>:6: FutureWarning: The frame.append method is deprecated and will be removed from pandas in a future version. Use pandas.concat instead.\n",
            "  ticker_metric_data = ticker_metric_data.append(result_df_ticker, ignore_index=True)\n",
            "<ipython-input-4-7c6545ffcfb5>:6: FutureWarning: The frame.append method is deprecated and will be removed from pandas in a future version. Use pandas.concat instead.\n",
            "  ticker_metric_data = ticker_metric_data.append(result_df_ticker, ignore_index=True)\n",
            "<ipython-input-4-7c6545ffcfb5>:6: FutureWarning: The frame.append method is deprecated and will be removed from pandas in a future version. Use pandas.concat instead.\n",
            "  ticker_metric_data = ticker_metric_data.append(result_df_ticker, ignore_index=True)\n",
            "<ipython-input-4-7c6545ffcfb5>:6: FutureWarning: The frame.append method is deprecated and will be removed from pandas in a future version. Use pandas.concat instead.\n",
            "  ticker_metric_data = ticker_metric_data.append(result_df_ticker, ignore_index=True)\n",
            "<ipython-input-4-7c6545ffcfb5>:6: FutureWarning: The frame.append method is deprecated and will be removed from pandas in a future version. Use pandas.concat instead.\n",
            "  ticker_metric_data = ticker_metric_data.append(result_df_ticker, ignore_index=True)\n",
            "<ipython-input-4-7c6545ffcfb5>:6: FutureWarning: The frame.append method is deprecated and will be removed from pandas in a future version. Use pandas.concat instead.\n",
            "  ticker_metric_data = ticker_metric_data.append(result_df_ticker, ignore_index=True)\n",
            "<ipython-input-4-7c6545ffcfb5>:6: FutureWarning: The frame.append method is deprecated and will be removed from pandas in a future version. Use pandas.concat instead.\n",
            "  ticker_metric_data = ticker_metric_data.append(result_df_ticker, ignore_index=True)\n",
            "<ipython-input-4-7c6545ffcfb5>:6: FutureWarning: The frame.append method is deprecated and will be removed from pandas in a future version. Use pandas.concat instead.\n",
            "  ticker_metric_data = ticker_metric_data.append(result_df_ticker, ignore_index=True)\n",
            "<ipython-input-4-7c6545ffcfb5>:6: FutureWarning: The frame.append method is deprecated and will be removed from pandas in a future version. Use pandas.concat instead.\n",
            "  ticker_metric_data = ticker_metric_data.append(result_df_ticker, ignore_index=True)\n",
            "<ipython-input-4-7c6545ffcfb5>:6: FutureWarning: The frame.append method is deprecated and will be removed from pandas in a future version. Use pandas.concat instead.\n",
            "  ticker_metric_data = ticker_metric_data.append(result_df_ticker, ignore_index=True)\n",
            "<ipython-input-4-7c6545ffcfb5>:6: FutureWarning: The frame.append method is deprecated and will be removed from pandas in a future version. Use pandas.concat instead.\n",
            "  ticker_metric_data = ticker_metric_data.append(result_df_ticker, ignore_index=True)\n",
            "<ipython-input-4-7c6545ffcfb5>:6: FutureWarning: The frame.append method is deprecated and will be removed from pandas in a future version. Use pandas.concat instead.\n",
            "  ticker_metric_data = ticker_metric_data.append(result_df_ticker, ignore_index=True)\n",
            "<ipython-input-4-7c6545ffcfb5>:6: FutureWarning: The frame.append method is deprecated and will be removed from pandas in a future version. Use pandas.concat instead.\n",
            "  ticker_metric_data = ticker_metric_data.append(result_df_ticker, ignore_index=True)\n",
            "<ipython-input-4-7c6545ffcfb5>:6: FutureWarning: The frame.append method is deprecated and will be removed from pandas in a future version. Use pandas.concat instead.\n",
            "  ticker_metric_data = ticker_metric_data.append(result_df_ticker, ignore_index=True)\n",
            "<ipython-input-4-7c6545ffcfb5>:6: FutureWarning: The frame.append method is deprecated and will be removed from pandas in a future version. Use pandas.concat instead.\n",
            "  ticker_metric_data = ticker_metric_data.append(result_df_ticker, ignore_index=True)\n",
            "<ipython-input-4-7c6545ffcfb5>:6: FutureWarning: The frame.append method is deprecated and will be removed from pandas in a future version. Use pandas.concat instead.\n",
            "  ticker_metric_data = ticker_metric_data.append(result_df_ticker, ignore_index=True)\n",
            "<ipython-input-4-7c6545ffcfb5>:6: FutureWarning: The frame.append method is deprecated and will be removed from pandas in a future version. Use pandas.concat instead.\n",
            "  ticker_metric_data = ticker_metric_data.append(result_df_ticker, ignore_index=True)\n",
            "<ipython-input-4-7c6545ffcfb5>:6: FutureWarning: The frame.append method is deprecated and will be removed from pandas in a future version. Use pandas.concat instead.\n",
            "  ticker_metric_data = ticker_metric_data.append(result_df_ticker, ignore_index=True)\n",
            "<ipython-input-4-7c6545ffcfb5>:6: FutureWarning: The frame.append method is deprecated and will be removed from pandas in a future version. Use pandas.concat instead.\n",
            "  ticker_metric_data = ticker_metric_data.append(result_df_ticker, ignore_index=True)\n",
            "<ipython-input-4-7c6545ffcfb5>:6: FutureWarning: The frame.append method is deprecated and will be removed from pandas in a future version. Use pandas.concat instead.\n",
            "  ticker_metric_data = ticker_metric_data.append(result_df_ticker, ignore_index=True)\n",
            "<ipython-input-4-7c6545ffcfb5>:6: FutureWarning: The frame.append method is deprecated and will be removed from pandas in a future version. Use pandas.concat instead.\n",
            "  ticker_metric_data = ticker_metric_data.append(result_df_ticker, ignore_index=True)\n",
            "<ipython-input-4-7c6545ffcfb5>:6: FutureWarning: The frame.append method is deprecated and will be removed from pandas in a future version. Use pandas.concat instead.\n",
            "  ticker_metric_data = ticker_metric_data.append(result_df_ticker, ignore_index=True)\n",
            "<ipython-input-4-7c6545ffcfb5>:6: FutureWarning: The frame.append method is deprecated and will be removed from pandas in a future version. Use pandas.concat instead.\n",
            "  ticker_metric_data = ticker_metric_data.append(result_df_ticker, ignore_index=True)\n",
            "<ipython-input-4-7c6545ffcfb5>:6: FutureWarning: The frame.append method is deprecated and will be removed from pandas in a future version. Use pandas.concat instead.\n",
            "  ticker_metric_data = ticker_metric_data.append(result_df_ticker, ignore_index=True)\n",
            "<ipython-input-4-7c6545ffcfb5>:6: FutureWarning: The frame.append method is deprecated and will be removed from pandas in a future version. Use pandas.concat instead.\n",
            "  ticker_metric_data = ticker_metric_data.append(result_df_ticker, ignore_index=True)\n",
            "<ipython-input-4-7c6545ffcfb5>:6: FutureWarning: The frame.append method is deprecated and will be removed from pandas in a future version. Use pandas.concat instead.\n",
            "  ticker_metric_data = ticker_metric_data.append(result_df_ticker, ignore_index=True)\n",
            "<ipython-input-4-7c6545ffcfb5>:6: FutureWarning: The frame.append method is deprecated and will be removed from pandas in a future version. Use pandas.concat instead.\n",
            "  ticker_metric_data = ticker_metric_data.append(result_df_ticker, ignore_index=True)\n",
            "<ipython-input-4-7c6545ffcfb5>:6: FutureWarning: The frame.append method is deprecated and will be removed from pandas in a future version. Use pandas.concat instead.\n",
            "  ticker_metric_data = ticker_metric_data.append(result_df_ticker, ignore_index=True)\n",
            "<ipython-input-4-7c6545ffcfb5>:6: FutureWarning: The frame.append method is deprecated and will be removed from pandas in a future version. Use pandas.concat instead.\n",
            "  ticker_metric_data = ticker_metric_data.append(result_df_ticker, ignore_index=True)\n",
            "<ipython-input-4-7c6545ffcfb5>:6: FutureWarning: The frame.append method is deprecated and will be removed from pandas in a future version. Use pandas.concat instead.\n",
            "  ticker_metric_data = ticker_metric_data.append(result_df_ticker, ignore_index=True)\n",
            "<ipython-input-4-7c6545ffcfb5>:6: FutureWarning: The frame.append method is deprecated and will be removed from pandas in a future version. Use pandas.concat instead.\n",
            "  ticker_metric_data = ticker_metric_data.append(result_df_ticker, ignore_index=True)\n",
            "<ipython-input-4-7c6545ffcfb5>:6: FutureWarning: The frame.append method is deprecated and will be removed from pandas in a future version. Use pandas.concat instead.\n",
            "  ticker_metric_data = ticker_metric_data.append(result_df_ticker, ignore_index=True)\n",
            "<ipython-input-4-7c6545ffcfb5>:6: FutureWarning: The frame.append method is deprecated and will be removed from pandas in a future version. Use pandas.concat instead.\n",
            "  ticker_metric_data = ticker_metric_data.append(result_df_ticker, ignore_index=True)\n",
            "<ipython-input-4-7c6545ffcfb5>:6: FutureWarning: The frame.append method is deprecated and will be removed from pandas in a future version. Use pandas.concat instead.\n",
            "  ticker_metric_data = ticker_metric_data.append(result_df_ticker, ignore_index=True)\n",
            "<ipython-input-4-7c6545ffcfb5>:6: FutureWarning: The frame.append method is deprecated and will be removed from pandas in a future version. Use pandas.concat instead.\n",
            "  ticker_metric_data = ticker_metric_data.append(result_df_ticker, ignore_index=True)\n",
            "<ipython-input-4-7c6545ffcfb5>:6: FutureWarning: The frame.append method is deprecated and will be removed from pandas in a future version. Use pandas.concat instead.\n",
            "  ticker_metric_data = ticker_metric_data.append(result_df_ticker, ignore_index=True)\n",
            "<ipython-input-4-7c6545ffcfb5>:6: FutureWarning: The frame.append method is deprecated and will be removed from pandas in a future version. Use pandas.concat instead.\n",
            "  ticker_metric_data = ticker_metric_data.append(result_df_ticker, ignore_index=True)\n",
            "<ipython-input-4-7c6545ffcfb5>:6: FutureWarning: The frame.append method is deprecated and will be removed from pandas in a future version. Use pandas.concat instead.\n",
            "  ticker_metric_data = ticker_metric_data.append(result_df_ticker, ignore_index=True)\n",
            "<ipython-input-4-7c6545ffcfb5>:6: FutureWarning: The frame.append method is deprecated and will be removed from pandas in a future version. Use pandas.concat instead.\n",
            "  ticker_metric_data = ticker_metric_data.append(result_df_ticker, ignore_index=True)\n",
            "<ipython-input-4-7c6545ffcfb5>:6: FutureWarning: The frame.append method is deprecated and will be removed from pandas in a future version. Use pandas.concat instead.\n",
            "  ticker_metric_data = ticker_metric_data.append(result_df_ticker, ignore_index=True)\n",
            "<ipython-input-4-7c6545ffcfb5>:6: FutureWarning: The frame.append method is deprecated and will be removed from pandas in a future version. Use pandas.concat instead.\n",
            "  ticker_metric_data = ticker_metric_data.append(result_df_ticker, ignore_index=True)\n",
            "<ipython-input-4-7c6545ffcfb5>:6: FutureWarning: The frame.append method is deprecated and will be removed from pandas in a future version. Use pandas.concat instead.\n",
            "  ticker_metric_data = ticker_metric_data.append(result_df_ticker, ignore_index=True)\n",
            "<ipython-input-4-7c6545ffcfb5>:6: FutureWarning: The frame.append method is deprecated and will be removed from pandas in a future version. Use pandas.concat instead.\n",
            "  ticker_metric_data = ticker_metric_data.append(result_df_ticker, ignore_index=True)\n",
            "<ipython-input-4-7c6545ffcfb5>:6: FutureWarning: The frame.append method is deprecated and will be removed from pandas in a future version. Use pandas.concat instead.\n",
            "  ticker_metric_data = ticker_metric_data.append(result_df_ticker, ignore_index=True)\n",
            "<ipython-input-4-7c6545ffcfb5>:6: FutureWarning: The frame.append method is deprecated and will be removed from pandas in a future version. Use pandas.concat instead.\n",
            "  ticker_metric_data = ticker_metric_data.append(result_df_ticker, ignore_index=True)\n",
            "<ipython-input-4-7c6545ffcfb5>:6: FutureWarning: The frame.append method is deprecated and will be removed from pandas in a future version. Use pandas.concat instead.\n",
            "  ticker_metric_data = ticker_metric_data.append(result_df_ticker, ignore_index=True)\n",
            "<ipython-input-4-7c6545ffcfb5>:6: FutureWarning: The frame.append method is deprecated and will be removed from pandas in a future version. Use pandas.concat instead.\n",
            "  ticker_metric_data = ticker_metric_data.append(result_df_ticker, ignore_index=True)\n",
            "<ipython-input-4-7c6545ffcfb5>:6: FutureWarning: The frame.append method is deprecated and will be removed from pandas in a future version. Use pandas.concat instead.\n",
            "  ticker_metric_data = ticker_metric_data.append(result_df_ticker, ignore_index=True)\n",
            "<ipython-input-4-7c6545ffcfb5>:6: FutureWarning: The frame.append method is deprecated and will be removed from pandas in a future version. Use pandas.concat instead.\n",
            "  ticker_metric_data = ticker_metric_data.append(result_df_ticker, ignore_index=True)\n",
            "<ipython-input-4-7c6545ffcfb5>:6: FutureWarning: The frame.append method is deprecated and will be removed from pandas in a future version. Use pandas.concat instead.\n",
            "  ticker_metric_data = ticker_metric_data.append(result_df_ticker, ignore_index=True)\n",
            "<ipython-input-4-7c6545ffcfb5>:6: FutureWarning: The frame.append method is deprecated and will be removed from pandas in a future version. Use pandas.concat instead.\n",
            "  ticker_metric_data = ticker_metric_data.append(result_df_ticker, ignore_index=True)\n",
            "<ipython-input-4-7c6545ffcfb5>:6: FutureWarning: The frame.append method is deprecated and will be removed from pandas in a future version. Use pandas.concat instead.\n",
            "  ticker_metric_data = ticker_metric_data.append(result_df_ticker, ignore_index=True)\n",
            "<ipython-input-4-7c6545ffcfb5>:6: FutureWarning: The frame.append method is deprecated and will be removed from pandas in a future version. Use pandas.concat instead.\n",
            "  ticker_metric_data = ticker_metric_data.append(result_df_ticker, ignore_index=True)\n",
            "<ipython-input-4-7c6545ffcfb5>:6: FutureWarning: The frame.append method is deprecated and will be removed from pandas in a future version. Use pandas.concat instead.\n",
            "  ticker_metric_data = ticker_metric_data.append(result_df_ticker, ignore_index=True)\n",
            "<ipython-input-4-7c6545ffcfb5>:6: FutureWarning: The frame.append method is deprecated and will be removed from pandas in a future version. Use pandas.concat instead.\n",
            "  ticker_metric_data = ticker_metric_data.append(result_df_ticker, ignore_index=True)\n",
            "<ipython-input-4-7c6545ffcfb5>:6: FutureWarning: The frame.append method is deprecated and will be removed from pandas in a future version. Use pandas.concat instead.\n",
            "  ticker_metric_data = ticker_metric_data.append(result_df_ticker, ignore_index=True)\n",
            "<ipython-input-4-7c6545ffcfb5>:6: FutureWarning: The frame.append method is deprecated and will be removed from pandas in a future version. Use pandas.concat instead.\n",
            "  ticker_metric_data = ticker_metric_data.append(result_df_ticker, ignore_index=True)\n",
            "<ipython-input-4-7c6545ffcfb5>:6: FutureWarning: The frame.append method is deprecated and will be removed from pandas in a future version. Use pandas.concat instead.\n",
            "  ticker_metric_data = ticker_metric_data.append(result_df_ticker, ignore_index=True)\n",
            "<ipython-input-4-7c6545ffcfb5>:6: FutureWarning: The frame.append method is deprecated and will be removed from pandas in a future version. Use pandas.concat instead.\n",
            "  ticker_metric_data = ticker_metric_data.append(result_df_ticker, ignore_index=True)\n",
            "<ipython-input-4-7c6545ffcfb5>:6: FutureWarning: The frame.append method is deprecated and will be removed from pandas in a future version. Use pandas.concat instead.\n",
            "  ticker_metric_data = ticker_metric_data.append(result_df_ticker, ignore_index=True)\n",
            "<ipython-input-4-7c6545ffcfb5>:6: FutureWarning: The frame.append method is deprecated and will be removed from pandas in a future version. Use pandas.concat instead.\n",
            "  ticker_metric_data = ticker_metric_data.append(result_df_ticker, ignore_index=True)\n",
            "<ipython-input-4-7c6545ffcfb5>:6: FutureWarning: The frame.append method is deprecated and will be removed from pandas in a future version. Use pandas.concat instead.\n",
            "  ticker_metric_data = ticker_metric_data.append(result_df_ticker, ignore_index=True)\n",
            "<ipython-input-4-7c6545ffcfb5>:6: FutureWarning: The frame.append method is deprecated and will be removed from pandas in a future version. Use pandas.concat instead.\n",
            "  ticker_metric_data = ticker_metric_data.append(result_df_ticker, ignore_index=True)\n",
            "<ipython-input-4-7c6545ffcfb5>:6: FutureWarning: The frame.append method is deprecated and will be removed from pandas in a future version. Use pandas.concat instead.\n",
            "  ticker_metric_data = ticker_metric_data.append(result_df_ticker, ignore_index=True)\n",
            "<ipython-input-4-7c6545ffcfb5>:6: FutureWarning: The frame.append method is deprecated and will be removed from pandas in a future version. Use pandas.concat instead.\n",
            "  ticker_metric_data = ticker_metric_data.append(result_df_ticker, ignore_index=True)\n",
            "<ipython-input-4-7c6545ffcfb5>:6: FutureWarning: The frame.append method is deprecated and will be removed from pandas in a future version. Use pandas.concat instead.\n",
            "  ticker_metric_data = ticker_metric_data.append(result_df_ticker, ignore_index=True)\n",
            "<ipython-input-4-7c6545ffcfb5>:6: FutureWarning: The frame.append method is deprecated and will be removed from pandas in a future version. Use pandas.concat instead.\n",
            "  ticker_metric_data = ticker_metric_data.append(result_df_ticker, ignore_index=True)\n",
            "<ipython-input-4-7c6545ffcfb5>:6: FutureWarning: The frame.append method is deprecated and will be removed from pandas in a future version. Use pandas.concat instead.\n",
            "  ticker_metric_data = ticker_metric_data.append(result_df_ticker, ignore_index=True)\n",
            "<ipython-input-4-7c6545ffcfb5>:6: FutureWarning: The frame.append method is deprecated and will be removed from pandas in a future version. Use pandas.concat instead.\n",
            "  ticker_metric_data = ticker_metric_data.append(result_df_ticker, ignore_index=True)\n",
            "<ipython-input-4-7c6545ffcfb5>:6: FutureWarning: The frame.append method is deprecated and will be removed from pandas in a future version. Use pandas.concat instead.\n",
            "  ticker_metric_data = ticker_metric_data.append(result_df_ticker, ignore_index=True)\n",
            "<ipython-input-4-7c6545ffcfb5>:6: FutureWarning: The frame.append method is deprecated and will be removed from pandas in a future version. Use pandas.concat instead.\n",
            "  ticker_metric_data = ticker_metric_data.append(result_df_ticker, ignore_index=True)\n",
            "<ipython-input-4-7c6545ffcfb5>:6: FutureWarning: The frame.append method is deprecated and will be removed from pandas in a future version. Use pandas.concat instead.\n",
            "  ticker_metric_data = ticker_metric_data.append(result_df_ticker, ignore_index=True)\n",
            "<ipython-input-4-7c6545ffcfb5>:6: FutureWarning: The frame.append method is deprecated and will be removed from pandas in a future version. Use pandas.concat instead.\n",
            "  ticker_metric_data = ticker_metric_data.append(result_df_ticker, ignore_index=True)\n",
            "<ipython-input-4-7c6545ffcfb5>:6: FutureWarning: The frame.append method is deprecated and will be removed from pandas in a future version. Use pandas.concat instead.\n",
            "  ticker_metric_data = ticker_metric_data.append(result_df_ticker, ignore_index=True)\n",
            "<ipython-input-4-7c6545ffcfb5>:6: FutureWarning: The frame.append method is deprecated and will be removed from pandas in a future version. Use pandas.concat instead.\n",
            "  ticker_metric_data = ticker_metric_data.append(result_df_ticker, ignore_index=True)\n",
            "<ipython-input-4-7c6545ffcfb5>:6: FutureWarning: The frame.append method is deprecated and will be removed from pandas in a future version. Use pandas.concat instead.\n",
            "  ticker_metric_data = ticker_metric_data.append(result_df_ticker, ignore_index=True)\n",
            "<ipython-input-4-7c6545ffcfb5>:6: FutureWarning: The frame.append method is deprecated and will be removed from pandas in a future version. Use pandas.concat instead.\n",
            "  ticker_metric_data = ticker_metric_data.append(result_df_ticker, ignore_index=True)\n",
            "<ipython-input-4-7c6545ffcfb5>:6: FutureWarning: The frame.append method is deprecated and will be removed from pandas in a future version. Use pandas.concat instead.\n",
            "  ticker_metric_data = ticker_metric_data.append(result_df_ticker, ignore_index=True)\n",
            "<ipython-input-4-7c6545ffcfb5>:6: FutureWarning: The frame.append method is deprecated and will be removed from pandas in a future version. Use pandas.concat instead.\n",
            "  ticker_metric_data = ticker_metric_data.append(result_df_ticker, ignore_index=True)\n",
            "<ipython-input-4-7c6545ffcfb5>:6: FutureWarning: The frame.append method is deprecated and will be removed from pandas in a future version. Use pandas.concat instead.\n",
            "  ticker_metric_data = ticker_metric_data.append(result_df_ticker, ignore_index=True)\n",
            "<ipython-input-4-7c6545ffcfb5>:6: FutureWarning: The frame.append method is deprecated and will be removed from pandas in a future version. Use pandas.concat instead.\n",
            "  ticker_metric_data = ticker_metric_data.append(result_df_ticker, ignore_index=True)\n",
            "<ipython-input-4-7c6545ffcfb5>:6: FutureWarning: The frame.append method is deprecated and will be removed from pandas in a future version. Use pandas.concat instead.\n",
            "  ticker_metric_data = ticker_metric_data.append(result_df_ticker, ignore_index=True)\n",
            "<ipython-input-4-7c6545ffcfb5>:6: FutureWarning: The frame.append method is deprecated and will be removed from pandas in a future version. Use pandas.concat instead.\n",
            "  ticker_metric_data = ticker_metric_data.append(result_df_ticker, ignore_index=True)\n",
            "<ipython-input-4-7c6545ffcfb5>:6: FutureWarning: The frame.append method is deprecated and will be removed from pandas in a future version. Use pandas.concat instead.\n",
            "  ticker_metric_data = ticker_metric_data.append(result_df_ticker, ignore_index=True)\n"
          ]
        }
      ]
    },
    {
      "cell_type": "code",
      "source": [
        "ticker_metric_data"
      ],
      "metadata": {
        "colab": {
          "base_uri": "https://localhost:8080/",
          "height": 423
        },
        "id": "WJv477EN3L9h",
        "outputId": "c89a294e-fc55-4c0d-9278-de68a3529446"
      },
      "execution_count": null,
      "outputs": [
        {
          "output_type": "execute_result",
          "data": {
            "text/plain": [
              "   Ticker    Return  Volatility  Dividend_Yield\n",
              "0     MMM -0.001258    0.017213  -473629.245873\n",
              "1     AOS -0.001245    0.019703   -91540.629897\n",
              "2     ABT -0.000737    0.016818  -255212.932591\n",
              "3    ABBV  0.000961    0.014129   587186.620207\n",
              "4     ACN -0.001418    0.020882  -284274.416671\n",
              "..    ...       ...         ...             ...\n",
              "95   CBRE -0.001147    0.021602       -0.000000\n",
              "96    CDW -0.000313    0.019618  -667957.478157\n",
              "97     CE -0.001558    0.025593  -175831.247587\n",
              "98    COR  0.001052    0.014886   177266.595823\n",
              "99    CNC  0.000180    0.020571        0.000000\n",
              "\n",
              "[100 rows x 4 columns]"
            ],
            "text/html": [
              "\n",
              "  <div id=\"df-00f61587-2c3b-4a9a-9da1-2006531ca5d3\" class=\"colab-df-container\">\n",
              "    <div>\n",
              "<style scoped>\n",
              "    .dataframe tbody tr th:only-of-type {\n",
              "        vertical-align: middle;\n",
              "    }\n",
              "\n",
              "    .dataframe tbody tr th {\n",
              "        vertical-align: top;\n",
              "    }\n",
              "\n",
              "    .dataframe thead th {\n",
              "        text-align: right;\n",
              "    }\n",
              "</style>\n",
              "<table border=\"1\" class=\"dataframe\">\n",
              "  <thead>\n",
              "    <tr style=\"text-align: right;\">\n",
              "      <th></th>\n",
              "      <th>Ticker</th>\n",
              "      <th>Return</th>\n",
              "      <th>Volatility</th>\n",
              "      <th>Dividend_Yield</th>\n",
              "    </tr>\n",
              "  </thead>\n",
              "  <tbody>\n",
              "    <tr>\n",
              "      <th>0</th>\n",
              "      <td>MMM</td>\n",
              "      <td>-0.001258</td>\n",
              "      <td>0.017213</td>\n",
              "      <td>-473629.245873</td>\n",
              "    </tr>\n",
              "    <tr>\n",
              "      <th>1</th>\n",
              "      <td>AOS</td>\n",
              "      <td>-0.001245</td>\n",
              "      <td>0.019703</td>\n",
              "      <td>-91540.629897</td>\n",
              "    </tr>\n",
              "    <tr>\n",
              "      <th>2</th>\n",
              "      <td>ABT</td>\n",
              "      <td>-0.000737</td>\n",
              "      <td>0.016818</td>\n",
              "      <td>-255212.932591</td>\n",
              "    </tr>\n",
              "    <tr>\n",
              "      <th>3</th>\n",
              "      <td>ABBV</td>\n",
              "      <td>0.000961</td>\n",
              "      <td>0.014129</td>\n",
              "      <td>587186.620207</td>\n",
              "    </tr>\n",
              "    <tr>\n",
              "      <th>4</th>\n",
              "      <td>ACN</td>\n",
              "      <td>-0.001418</td>\n",
              "      <td>0.020882</td>\n",
              "      <td>-284274.416671</td>\n",
              "    </tr>\n",
              "    <tr>\n",
              "      <th>...</th>\n",
              "      <td>...</td>\n",
              "      <td>...</td>\n",
              "      <td>...</td>\n",
              "      <td>...</td>\n",
              "    </tr>\n",
              "    <tr>\n",
              "      <th>95</th>\n",
              "      <td>CBRE</td>\n",
              "      <td>-0.001147</td>\n",
              "      <td>0.021602</td>\n",
              "      <td>-0.000000</td>\n",
              "    </tr>\n",
              "    <tr>\n",
              "      <th>96</th>\n",
              "      <td>CDW</td>\n",
              "      <td>-0.000313</td>\n",
              "      <td>0.019618</td>\n",
              "      <td>-667957.478157</td>\n",
              "    </tr>\n",
              "    <tr>\n",
              "      <th>97</th>\n",
              "      <td>CE</td>\n",
              "      <td>-0.001558</td>\n",
              "      <td>0.025593</td>\n",
              "      <td>-175831.247587</td>\n",
              "    </tr>\n",
              "    <tr>\n",
              "      <th>98</th>\n",
              "      <td>COR</td>\n",
              "      <td>0.001052</td>\n",
              "      <td>0.014886</td>\n",
              "      <td>177266.595823</td>\n",
              "    </tr>\n",
              "    <tr>\n",
              "      <th>99</th>\n",
              "      <td>CNC</td>\n",
              "      <td>0.000180</td>\n",
              "      <td>0.020571</td>\n",
              "      <td>0.000000</td>\n",
              "    </tr>\n",
              "  </tbody>\n",
              "</table>\n",
              "<p>100 rows × 4 columns</p>\n",
              "</div>\n",
              "    <div class=\"colab-df-buttons\">\n",
              "\n",
              "  <div class=\"colab-df-container\">\n",
              "    <button class=\"colab-df-convert\" onclick=\"convertToInteractive('df-00f61587-2c3b-4a9a-9da1-2006531ca5d3')\"\n",
              "            title=\"Convert this dataframe to an interactive table.\"\n",
              "            style=\"display:none;\">\n",
              "\n",
              "  <svg xmlns=\"http://www.w3.org/2000/svg\" height=\"24px\" viewBox=\"0 -960 960 960\">\n",
              "    <path d=\"M120-120v-720h720v720H120Zm60-500h600v-160H180v160Zm220 220h160v-160H400v160Zm0 220h160v-160H400v160ZM180-400h160v-160H180v160Zm440 0h160v-160H620v160ZM180-180h160v-160H180v160Zm440 0h160v-160H620v160Z\"/>\n",
              "  </svg>\n",
              "    </button>\n",
              "\n",
              "  <style>\n",
              "    .colab-df-container {\n",
              "      display:flex;\n",
              "      gap: 12px;\n",
              "    }\n",
              "\n",
              "    .colab-df-convert {\n",
              "      background-color: #E8F0FE;\n",
              "      border: none;\n",
              "      border-radius: 50%;\n",
              "      cursor: pointer;\n",
              "      display: none;\n",
              "      fill: #1967D2;\n",
              "      height: 32px;\n",
              "      padding: 0 0 0 0;\n",
              "      width: 32px;\n",
              "    }\n",
              "\n",
              "    .colab-df-convert:hover {\n",
              "      background-color: #E2EBFA;\n",
              "      box-shadow: 0px 1px 2px rgba(60, 64, 67, 0.3), 0px 1px 3px 1px rgba(60, 64, 67, 0.15);\n",
              "      fill: #174EA6;\n",
              "    }\n",
              "\n",
              "    .colab-df-buttons div {\n",
              "      margin-bottom: 4px;\n",
              "    }\n",
              "\n",
              "    [theme=dark] .colab-df-convert {\n",
              "      background-color: #3B4455;\n",
              "      fill: #D2E3FC;\n",
              "    }\n",
              "\n",
              "    [theme=dark] .colab-df-convert:hover {\n",
              "      background-color: #434B5C;\n",
              "      box-shadow: 0px 1px 3px 1px rgba(0, 0, 0, 0.15);\n",
              "      filter: drop-shadow(0px 1px 2px rgba(0, 0, 0, 0.3));\n",
              "      fill: #FFFFFF;\n",
              "    }\n",
              "  </style>\n",
              "\n",
              "    <script>\n",
              "      const buttonEl =\n",
              "        document.querySelector('#df-00f61587-2c3b-4a9a-9da1-2006531ca5d3 button.colab-df-convert');\n",
              "      buttonEl.style.display =\n",
              "        google.colab.kernel.accessAllowed ? 'block' : 'none';\n",
              "\n",
              "      async function convertToInteractive(key) {\n",
              "        const element = document.querySelector('#df-00f61587-2c3b-4a9a-9da1-2006531ca5d3');\n",
              "        const dataTable =\n",
              "          await google.colab.kernel.invokeFunction('convertToInteractive',\n",
              "                                                    [key], {});\n",
              "        if (!dataTable) return;\n",
              "\n",
              "        const docLinkHtml = 'Like what you see? Visit the ' +\n",
              "          '<a target=\"_blank\" href=https://colab.research.google.com/notebooks/data_table.ipynb>data table notebook</a>'\n",
              "          + ' to learn more about interactive tables.';\n",
              "        element.innerHTML = '';\n",
              "        dataTable['output_type'] = 'display_data';\n",
              "        await google.colab.output.renderOutput(dataTable, element);\n",
              "        const docLink = document.createElement('div');\n",
              "        docLink.innerHTML = docLinkHtml;\n",
              "        element.appendChild(docLink);\n",
              "      }\n",
              "    </script>\n",
              "  </div>\n",
              "\n",
              "\n",
              "<div id=\"df-3ae47e25-ea5e-4897-b4b7-6b3b10835bb7\">\n",
              "  <button class=\"colab-df-quickchart\" onclick=\"quickchart('df-3ae47e25-ea5e-4897-b4b7-6b3b10835bb7')\"\n",
              "            title=\"Suggest charts\"\n",
              "            style=\"display:none;\">\n",
              "\n",
              "<svg xmlns=\"http://www.w3.org/2000/svg\" height=\"24px\"viewBox=\"0 0 24 24\"\n",
              "     width=\"24px\">\n",
              "    <g>\n",
              "        <path d=\"M19 3H5c-1.1 0-2 .9-2 2v14c0 1.1.9 2 2 2h14c1.1 0 2-.9 2-2V5c0-1.1-.9-2-2-2zM9 17H7v-7h2v7zm4 0h-2V7h2v10zm4 0h-2v-4h2v4z\"/>\n",
              "    </g>\n",
              "</svg>\n",
              "  </button>\n",
              "\n",
              "<style>\n",
              "  .colab-df-quickchart {\n",
              "      --bg-color: #E8F0FE;\n",
              "      --fill-color: #1967D2;\n",
              "      --hover-bg-color: #E2EBFA;\n",
              "      --hover-fill-color: #174EA6;\n",
              "      --disabled-fill-color: #AAA;\n",
              "      --disabled-bg-color: #DDD;\n",
              "  }\n",
              "\n",
              "  [theme=dark] .colab-df-quickchart {\n",
              "      --bg-color: #3B4455;\n",
              "      --fill-color: #D2E3FC;\n",
              "      --hover-bg-color: #434B5C;\n",
              "      --hover-fill-color: #FFFFFF;\n",
              "      --disabled-bg-color: #3B4455;\n",
              "      --disabled-fill-color: #666;\n",
              "  }\n",
              "\n",
              "  .colab-df-quickchart {\n",
              "    background-color: var(--bg-color);\n",
              "    border: none;\n",
              "    border-radius: 50%;\n",
              "    cursor: pointer;\n",
              "    display: none;\n",
              "    fill: var(--fill-color);\n",
              "    height: 32px;\n",
              "    padding: 0;\n",
              "    width: 32px;\n",
              "  }\n",
              "\n",
              "  .colab-df-quickchart:hover {\n",
              "    background-color: var(--hover-bg-color);\n",
              "    box-shadow: 0 1px 2px rgba(60, 64, 67, 0.3), 0 1px 3px 1px rgba(60, 64, 67, 0.15);\n",
              "    fill: var(--button-hover-fill-color);\n",
              "  }\n",
              "\n",
              "  .colab-df-quickchart-complete:disabled,\n",
              "  .colab-df-quickchart-complete:disabled:hover {\n",
              "    background-color: var(--disabled-bg-color);\n",
              "    fill: var(--disabled-fill-color);\n",
              "    box-shadow: none;\n",
              "  }\n",
              "\n",
              "  .colab-df-spinner {\n",
              "    border: 2px solid var(--fill-color);\n",
              "    border-color: transparent;\n",
              "    border-bottom-color: var(--fill-color);\n",
              "    animation:\n",
              "      spin 1s steps(1) infinite;\n",
              "  }\n",
              "\n",
              "  @keyframes spin {\n",
              "    0% {\n",
              "      border-color: transparent;\n",
              "      border-bottom-color: var(--fill-color);\n",
              "      border-left-color: var(--fill-color);\n",
              "    }\n",
              "    20% {\n",
              "      border-color: transparent;\n",
              "      border-left-color: var(--fill-color);\n",
              "      border-top-color: var(--fill-color);\n",
              "    }\n",
              "    30% {\n",
              "      border-color: transparent;\n",
              "      border-left-color: var(--fill-color);\n",
              "      border-top-color: var(--fill-color);\n",
              "      border-right-color: var(--fill-color);\n",
              "    }\n",
              "    40% {\n",
              "      border-color: transparent;\n",
              "      border-right-color: var(--fill-color);\n",
              "      border-top-color: var(--fill-color);\n",
              "    }\n",
              "    60% {\n",
              "      border-color: transparent;\n",
              "      border-right-color: var(--fill-color);\n",
              "    }\n",
              "    80% {\n",
              "      border-color: transparent;\n",
              "      border-right-color: var(--fill-color);\n",
              "      border-bottom-color: var(--fill-color);\n",
              "    }\n",
              "    90% {\n",
              "      border-color: transparent;\n",
              "      border-bottom-color: var(--fill-color);\n",
              "    }\n",
              "  }\n",
              "</style>\n",
              "\n",
              "  <script>\n",
              "    async function quickchart(key) {\n",
              "      const quickchartButtonEl =\n",
              "        document.querySelector('#' + key + ' button');\n",
              "      quickchartButtonEl.disabled = true;  // To prevent multiple clicks.\n",
              "      quickchartButtonEl.classList.add('colab-df-spinner');\n",
              "      try {\n",
              "        const charts = await google.colab.kernel.invokeFunction(\n",
              "            'suggestCharts', [key], {});\n",
              "      } catch (error) {\n",
              "        console.error('Error during call to suggestCharts:', error);\n",
              "      }\n",
              "      quickchartButtonEl.classList.remove('colab-df-spinner');\n",
              "      quickchartButtonEl.classList.add('colab-df-quickchart-complete');\n",
              "    }\n",
              "    (() => {\n",
              "      let quickchartButtonEl =\n",
              "        document.querySelector('#df-3ae47e25-ea5e-4897-b4b7-6b3b10835bb7 button');\n",
              "      quickchartButtonEl.style.display =\n",
              "        google.colab.kernel.accessAllowed ? 'block' : 'none';\n",
              "    })();\n",
              "  </script>\n",
              "</div>\n",
              "    </div>\n",
              "  </div>\n"
            ]
          },
          "metadata": {},
          "execution_count": 5
        }
      ]
    },
    {
      "cell_type": "markdown",
      "source": [
        "# data preprocessing"
      ],
      "metadata": {
        "id": "SdRLUpKLHmCw"
      }
    },
    {
      "cell_type": "code",
      "source": [
        "df = ticker_metric_data.copy()\n",
        "# Assuming df is your DataFrame\n",
        "# Extract the columns you want to standardize\n",
        "columns_to_standardize = ['Return', 'Volatility', 'Dividend_Yield']\n",
        "\n",
        "# Initialize the StandardScaler\n",
        "scaler = StandardScaler()\n",
        "\n",
        "# Fit and transform the selected columns\n",
        "df[columns_to_standardize] = scaler.fit_transform(df[columns_to_standardize])"
      ],
      "metadata": {
        "id": "JyhwgFqGTGIy"
      },
      "execution_count": null,
      "outputs": []
    },
    {
      "cell_type": "markdown",
      "source": [
        "# predicting number of clusters"
      ],
      "metadata": {
        "id": "uYV8mpNgHpMT"
      }
    },
    {
      "cell_type": "code",
      "source": [
        "import scipy.cluster.hierarchy as sch\n",
        "# create dendrogram\n",
        "dendrogram1 = sch.dendrogram(sch.linkage(df.iloc[:,1:], method='ward'))\n",
        "plt.axhline(y=5, color='r', linestyle='--')"
      ],
      "metadata": {
        "colab": {
          "base_uri": "https://localhost:8080/",
          "height": 443
        },
        "id": "C_89GTLFaYd9",
        "outputId": "79a683d4-048f-4b45-d14f-e071612c02a2"
      },
      "execution_count": null,
      "outputs": [
        {
          "output_type": "execute_result",
          "data": {
            "text/plain": [
              "<matplotlib.lines.Line2D at 0x7a7709962fb0>"
            ]
          },
          "metadata": {},
          "execution_count": 7
        },
        {
          "output_type": "display_data",
          "data": {
            "text/plain": [
              "<Figure size 640x480 with 1 Axes>"
            ],
            "image/png": "[encoded data removed]"
          },
          "metadata": {}
        }
      ]
    },
    {
      "cell_type": "markdown",
      "source": [
        "# heirchecla model"
      ],
      "metadata": {
        "id": "ZGDxZlA0HtzU"
      }
    },
    {
      "cell_type": "code",
      "source": [
        "# import hierarchical clustering libraries\n",
        "from sklearn.cluster import AgglomerativeClustering\n",
        "\n",
        "# create clusters\n",
        "hc = AgglomerativeClustering(n_clusters=7, affinity = 'euclidean', linkage = 'ward')\n",
        "# save clusters for chart\n",
        "y_hc = hc.fit_predict(df.iloc[:,1:])"
      ],
      "metadata": {
        "colab": {
          "base_uri": "https://localhost:8080/"
        },
        "id": "5xh8v3CgaAzc",
        "outputId": "50f04376-ddfd-4010-d179-ab91f71e159f"
      },
      "execution_count": null,
      "outputs": [
        {
          "output_type": "stream",
          "name": "stderr",
          "text": [
            "/usr/local/lib/python3.10/dist-packages/sklearn/cluster/_agglomerative.py:983: FutureWarning: Attribute `affinity` was deprecated in version 1.2 and will be removed in 1.4. Use `metric` instead\n",
            "  warnings.warn(\n"
          ]
        }
      ]
    },
    {
      "cell_type": "code",
      "source": [
        "df['cluster'] = y_hc\n",
        "dt = df.groupby('cluster').mean()"
      ],
      "metadata": {
        "colab": {
          "base_uri": "https://localhost:8080/"
        },
        "id": "7aqgv8f7owWV",
        "outputId": "f877ab96-cb57-4aa1-aa94-e4bee26564f2"
      },
      "execution_count": null,
      "outputs": [
        {
          "output_type": "stream",
          "name": "stderr",
          "text": [
            "<ipython-input-9-1cb36e1310f4>:2: FutureWarning: The default value of numeric_only in DataFrameGroupBy.mean is deprecated. In a future version, numeric_only will default to False. Either specify numeric_only or select only columns which should be valid for the function.\n",
            "  dt = df.groupby('cluster').mean()\n"
          ]
        }
      ]
    },
    {
      "cell_type": "markdown",
      "source": [
        "# results"
      ],
      "metadata": {
        "id": "CtXUf1rxHzsl"
      }
    },
    {
      "cell_type": "code",
      "source": [
        "plt.plot(dt.T)\n",
        "plt.xticks(rotation=90)"
      ],
      "metadata": {
        "colab": {
          "base_uri": "https://localhost:8080/",
          "height": 591
        },
        "id": "p0C1Mz7sslzC",
        "outputId": "d74e6e12-0fab-4178-9569-304932de82ce"
      },
      "execution_count": null,
      "outputs": [
        {
          "output_type": "execute_result",
          "data": {
            "text/plain": [
              "([0, 1, 2],\n",
              " [Text(0, 0, 'Return'),\n",
              "  Text(1, 0, 'Volatility'),\n",
              "  Text(2, 0, 'Dividend_Yield')])"
            ]
          },
          "metadata": {},
          "execution_count": 10
        },
        {
          "output_type": "display_data",
          "data": {
            "text/plain": [
              "<Figure size 640x480 with 1 Axes>"
            ],
            "image/png": "[encoded data removed]"
          },
          "metadata": {}
        }
      ]
    },
    {
      "cell_type": "markdown",
      "source": [
        "# validation"
      ],
      "metadata": {
        "id": "3QVs7EvBI_VY"
      }
    },
    {
      "cell_type": "code",
      "source": [
        "new_ticker_metric_data = ticker_metric_data.copy()\n",
        "new_ticker_metric_data['cluster'] = y_hc\n",
        "new_ticker_metric_data_desc = new_ticker_metric_data.sort_values(by='Return', ascending=False)\n",
        "new_ticker_metric_data_desc.reset_index(inplace=True)\n",
        "new_ticker_metric_data_desc.drop('index',axis=1,inplace=True)"
      ],
      "metadata": {
        "id": "oE_EDs-KyIEU"
      },
      "execution_count": null,
      "outputs": []
    },
    {
      "cell_type": "code",
      "source": [
        "new_ticker_metric_data_desc"
      ],
      "metadata": {
        "colab": {
          "base_uri": "https://localhost:8080/",
          "height": 423
        },
        "id": "yS7YRUjsIITr",
        "outputId": "f23f0696-c81d-4f7c-a3bb-513514bcfd09"
      },
      "execution_count": null,
      "outputs": [
        {
          "output_type": "execute_result",
          "data": {
            "text/plain": [
              "   Ticker    Return  Volatility  Dividend_Yield  cluster\n",
              "0     APA  0.002794    0.037084    22368.732014        6\n",
              "1     CAH  0.001836    0.017155   107701.816268        0\n",
              "2    ACGL  0.001526    0.017598        0.000000        0\n",
              "3     ADM  0.001522    0.019651   105096.625802        0\n",
              "4     WRB  0.001347    0.015728    64843.836498        0\n",
              "..    ...       ...         ...             ...      ...\n",
              "95    KMX -0.002384    0.032554       -0.000000        4\n",
              "96    AMD -0.002621    0.038459       -0.000000        4\n",
              "97    CCL -0.002706    0.048499       -0.000000        4\n",
              "98   CTLT -0.003467    0.033932       -0.000000        4\n",
              "99   ALGN -0.003756    0.037822       -0.000000        4\n",
              "\n",
              "[100 rows x 5 columns]"
            ],
            "text/html": [
              "\n",
              "  <div id=\"df-b65d0139-4811-4c0c-a3c3-eb15c4d7fb85\" class=\"colab-df-container\">\n",
              "    <div>\n",
              "<style scoped>\n",
              "    .dataframe tbody tr th:only-of-type {\n",
              "        vertical-align: middle;\n",
              "    }\n",
              "\n",
              "    .dataframe tbody tr th {\n",
              "        vertical-align: top;\n",
              "    }\n",
              "\n",
              "    .dataframe thead th {\n",
              "        text-align: right;\n",
              "    }\n",
              "</style>\n",
              "<table border=\"1\" class=\"dataframe\">\n",
              "  <thead>\n",
              "    <tr style=\"text-align: right;\">\n",
              "      <th></th>\n",
              "      <th>Ticker</th>\n",
              "      <th>Return</th>\n",
              "      <th>Volatility</th>\n",
              "      <th>Dividend_Yield</th>\n",
              "      <th>cluster</th>\n",
              "    </tr>\n",
              "  </thead>\n",
              "  <tbody>\n",
              "    <tr>\n",
              "      <th>0</th>\n",
              "      <td>APA</td>\n",
              "      <td>0.002794</td>\n",
              "      <td>0.037084</td>\n",
              "      <td>22368.732014</td>\n",
              "      <td>6</td>\n",
              "    </tr>\n",
              "    <tr>\n",
              "      <th>1</th>\n",
              "      <td>CAH</td>\n",
              "      <td>0.001836</td>\n",
              "      <td>0.017155</td>\n",
              "      <td>107701.816268</td>\n",
              "      <td>0</td>\n",
              "    </tr>\n",
              "    <tr>\n",
              "      <th>2</th>\n",
              "      <td>ACGL</td>\n",
              "      <td>0.001526</td>\n",
              "      <td>0.017598</td>\n",
              "      <td>0.000000</td>\n",
              "      <td>0</td>\n",
              "    </tr>\n",
              "    <tr>\n",
              "      <th>3</th>\n",
              "      <td>ADM</td>\n",
              "      <td>0.001522</td>\n",
              "      <td>0.019651</td>\n",
              "      <td>105096.625802</td>\n",
              "      <td>0</td>\n",
              "    </tr>\n",
              "    <tr>\n",
              "      <th>4</th>\n",
              "      <td>WRB</td>\n",
              "      <td>0.001347</td>\n",
              "      <td>0.015728</td>\n",
              "      <td>64843.836498</td>\n",
              "      <td>0</td>\n",
              "    </tr>\n",
              "    <tr>\n",
              "      <th>...</th>\n",
              "      <td>...</td>\n",
              "      <td>...</td>\n",
              "      <td>...</td>\n",
              "      <td>...</td>\n",
              "      <td>...</td>\n",
              "    </tr>\n",
              "    <tr>\n",
              "      <th>95</th>\n",
              "      <td>KMX</td>\n",
              "      <td>-0.002384</td>\n",
              "      <td>0.032554</td>\n",
              "      <td>-0.000000</td>\n",
              "      <td>4</td>\n",
              "    </tr>\n",
              "    <tr>\n",
              "      <th>96</th>\n",
              "      <td>AMD</td>\n",
              "      <td>-0.002621</td>\n",
              "      <td>0.038459</td>\n",
              "      <td>-0.000000</td>\n",
              "      <td>4</td>\n",
              "    </tr>\n",
              "    <tr>\n",
              "      <th>97</th>\n",
              "      <td>CCL</td>\n",
              "      <td>-0.002706</td>\n",
              "      <td>0.048499</td>\n",
              "      <td>-0.000000</td>\n",
              "      <td>4</td>\n",
              "    </tr>\n",
              "    <tr>\n",
              "      <th>98</th>\n",
              "      <td>CTLT</td>\n",
              "      <td>-0.003467</td>\n",
              "      <td>0.033932</td>\n",
              "      <td>-0.000000</td>\n",
              "      <td>4</td>\n",
              "    </tr>\n",
              "    <tr>\n",
              "      <th>99</th>\n",
              "      <td>ALGN</td>\n",
              "      <td>-0.003756</td>\n",
              "      <td>0.037822</td>\n",
              "      <td>-0.000000</td>\n",
              "      <td>4</td>\n",
              "    </tr>\n",
              "  </tbody>\n",
              "</table>\n",
              "<p>100 rows × 5 columns</p>\n",
              "</div>\n",
              "    <div class=\"colab-df-buttons\">\n",
              "\n",
              "  <div class=\"colab-df-container\">\n",
              "    <button class=\"colab-df-convert\" onclick=\"convertToInteractive('df-b65d0139-4811-4c0c-a3c3-eb15c4d7fb85')\"\n",
              "            title=\"Convert this dataframe to an interactive table.\"\n",
              "            style=\"display:none;\">\n",
              "\n",
              "  <svg xmlns=\"http://www.w3.org/2000/svg\" height=\"24px\" viewBox=\"0 -960 960 960\">\n",
              "    <path d=\"M120-120v-720h720v720H120Zm60-500h600v-160H180v160Zm220 220h160v-160H400v160Zm0 220h160v-160H400v160ZM180-400h160v-160H180v160Zm440 0h160v-160H620v160ZM180-180h160v-160H180v160Zm440 0h160v-160H620v160Z\"/>\n",
              "  </svg>\n",
              "    </button>\n",
              "\n",
              "  <style>\n",
              "    .colab-df-container {\n",
              "      display:flex;\n",
              "      gap: 12px;\n",
              "    }\n",
              "\n",
              "    .colab-df-convert {\n",
              "      background-color: #E8F0FE;\n",
              "      border: none;\n",
              "      border-radius: 50%;\n",
              "      cursor: pointer;\n",
              "      display: none;\n",
              "      fill: #1967D2;\n",
              "      height: 32px;\n",
              "      padding: 0 0 0 0;\n",
              "      width: 32px;\n",
              "    }\n",
              "\n",
              "    .colab-df-convert:hover {\n",
              "      background-color: #E2EBFA;\n",
              "      box-shadow: 0px 1px 2px rgba(60, 64, 67, 0.3), 0px 1px 3px 1px rgba(60, 64, 67, 0.15);\n",
              "      fill: #174EA6;\n",
              "    }\n",
              "\n",
              "    .colab-df-buttons div {\n",
              "      margin-bottom: 4px;\n",
              "    }\n",
              "\n",
              "    [theme=dark] .colab-df-convert {\n",
              "      background-color: #3B4455;\n",
              "      fill: #D2E3FC;\n",
              "    }\n",
              "\n",
              "    [theme=dark] .colab-df-convert:hover {\n",
              "      background-color: #434B5C;\n",
              "      box-shadow: 0px 1px 3px 1px rgba(0, 0, 0, 0.15);\n",
              "      filter: drop-shadow(0px 1px 2px rgba(0, 0, 0, 0.3));\n",
              "      fill: #FFFFFF;\n",
              "    }\n",
              "  </style>\n",
              "\n",
              "    <script>\n",
              "      const buttonEl =\n",
              "        document.querySelector('#df-b65d0139-4811-4c0c-a3c3-eb15c4d7fb85 button.colab-df-convert');\n",
              "      buttonEl.style.display =\n",
              "        google.colab.kernel.accessAllowed ? 'block' : 'none';\n",
              "\n",
              "      async function convertToInteractive(key) {\n",
              "        const element = document.querySelector('#df-b65d0139-4811-4c0c-a3c3-eb15c4d7fb85');\n",
              "        const dataTable =\n",
              "          await google.colab.kernel.invokeFunction('convertToInteractive',\n",
              "                                                    [key], {});\n",
              "        if (!dataTable) return;\n",
              "\n",
              "        const docLinkHtml = 'Like what you see? Visit the ' +\n",
              "          '<a target=\"_blank\" href=https://colab.research.google.com/notebooks/data_table.ipynb>data table notebook</a>'\n",
              "          + ' to learn more about interactive tables.';\n",
              "        element.innerHTML = '';\n",
              "        dataTable['output_type'] = 'display_data';\n",
              "        await google.colab.output.renderOutput(dataTable, element);\n",
              "        const docLink = document.createElement('div');\n",
              "        docLink.innerHTML = docLinkHtml;\n",
              "        element.appendChild(docLink);\n",
              "      }\n",
              "    </script>\n",
              "  </div>\n",
              "\n",
              "\n",
              "<div id=\"df-9126d3da-725a-452d-bc49-f9e1f645de86\">\n",
              "  <button class=\"colab-df-quickchart\" onclick=\"quickchart('df-9126d3da-725a-452d-bc49-f9e1f645de86')\"\n",
              "            title=\"Suggest charts\"\n",
              "            style=\"display:none;\">\n",
              "\n",
              "<svg xmlns=\"http://www.w3.org/2000/svg\" height=\"24px\"viewBox=\"0 0 24 24\"\n",
              "     width=\"24px\">\n",
              "    <g>\n",
              "        <path d=\"M19 3H5c-1.1 0-2 .9-2 2v14c0 1.1.9 2 2 2h14c1.1 0 2-.9 2-2V5c0-1.1-.9-2-2-2zM9 17H7v-7h2v7zm4 0h-2V7h2v10zm4 0h-2v-4h2v4z\"/>\n",
              "    </g>\n",
              "</svg>\n",
              "  </button>\n",
              "\n",
              "<style>\n",
              "  .colab-df-quickchart {\n",
              "      --bg-color: #E8F0FE;\n",
              "      --fill-color: #1967D2;\n",
              "      --hover-bg-color: #E2EBFA;\n",
              "      --hover-fill-color: #174EA6;\n",
              "      --disabled-fill-color: #AAA;\n",
              "      --disabled-bg-color: #DDD;\n",
              "  }\n",
              "\n",
              "  [theme=dark] .colab-df-quickchart {\n",
              "      --bg-color: #3B4455;\n",
              "      --fill-color: #D2E3FC;\n",
              "      --hover-bg-color: #434B5C;\n",
              "      --hover-fill-color: #FFFFFF;\n",
              "      --disabled-bg-color: #3B4455;\n",
              "      --disabled-fill-color: #666;\n",
              "  }\n",
              "\n",
              "  .colab-df-quickchart {\n",
              "    background-color: var(--bg-color);\n",
              "    border: none;\n",
              "    border-radius: 50%;\n",
              "    cursor: pointer;\n",
              "    display: none;\n",
              "    fill: var(--fill-color);\n",
              "    height: 32px;\n",
              "    padding: 0;\n",
              "    width: 32px;\n",
              "  }\n",
              "\n",
              "  .colab-df-quickchart:hover {\n",
              "    background-color: var(--hover-bg-color);\n",
              "    box-shadow: 0 1px 2px rgba(60, 64, 67, 0.3), 0 1px 3px 1px rgba(60, 64, 67, 0.15);\n",
              "    fill: var(--button-hover-fill-color);\n",
              "  }\n",
              "\n",
              "  .colab-df-quickchart-complete:disabled,\n",
              "  .colab-df-quickchart-complete:disabled:hover {\n",
              "    background-color: var(--disabled-bg-color);\n",
              "    fill: var(--disabled-fill-color);\n",
              "    box-shadow: none;\n",
              "  }\n",
              "\n",
              "  .colab-df-spinner {\n",
              "    border: 2px solid var(--fill-color);\n",
              "    border-color: transparent;\n",
              "    border-bottom-color: var(--fill-color);\n",
              "    animation:\n",
              "      spin 1s steps(1) infinite;\n",
              "  }\n",
              "\n",
              "  @keyframes spin {\n",
              "    0% {\n",
              "      border-color: transparent;\n",
              "      border-bottom-color: var(--fill-color);\n",
              "      border-left-color: var(--fill-color);\n",
              "    }\n",
              "    20% {\n",
              "      border-color: transparent;\n",
              "      border-left-color: var(--fill-color);\n",
              "      border-top-color: var(--fill-color);\n",
              "    }\n",
              "    30% {\n",
              "      border-color: transparent;\n",
              "      border-left-color: var(--fill-color);\n",
              "      border-top-color: var(--fill-color);\n",
              "      border-right-color: var(--fill-color);\n",
              "    }\n",
              "    40% {\n",
              "      border-color: transparent;\n",
              "      border-right-color: var(--fill-color);\n",
              "      border-top-color: var(--fill-color);\n",
              "    }\n",
              "    60% {\n",
              "      border-color: transparent;\n",
              "      border-right-color: var(--fill-color);\n",
              "    }\n",
              "    80% {\n",
              "      border-color: transparent;\n",
              "      border-right-color: var(--fill-color);\n",
              "      border-bottom-color: var(--fill-color);\n",
              "    }\n",
              "    90% {\n",
              "      border-color: transparent;\n",
              "      border-bottom-color: var(--fill-color);\n",
              "    }\n",
              "  }\n",
              "</style>\n",
              "\n",
              "  <script>\n",
              "    async function quickchart(key) {\n",
              "      const quickchartButtonEl =\n",
              "        document.querySelector('#' + key + ' button');\n",
              "      quickchartButtonEl.disabled = true;  // To prevent multiple clicks.\n",
              "      quickchartButtonEl.classList.add('colab-df-spinner');\n",
              "      try {\n",
              "        const charts = await google.colab.kernel.invokeFunction(\n",
              "            'suggestCharts', [key], {});\n",
              "      } catch (error) {\n",
              "        console.error('Error during call to suggestCharts:', error);\n",
              "      }\n",
              "      quickchartButtonEl.classList.remove('colab-df-spinner');\n",
              "      quickchartButtonEl.classList.add('colab-df-quickchart-complete');\n",
              "    }\n",
              "    (() => {\n",
              "      let quickchartButtonEl =\n",
              "        document.querySelector('#df-9126d3da-725a-452d-bc49-f9e1f645de86 button');\n",
              "      quickchartButtonEl.style.display =\n",
              "        google.colab.kernel.accessAllowed ? 'block' : 'none';\n",
              "    })();\n",
              "  </script>\n",
              "</div>\n",
              "    </div>\n",
              "  </div>\n"
            ]
          },
          "metadata": {},
          "execution_count": 12
        }
      ]
    },
    {
      "cell_type": "code",
      "source": [
        "ticker_with_max_return_clustered = new_ticker_metric_data_desc.loc[df['cluster'] == 6, 'Ticker']\n",
        "ticker_with_max_return=new_ticker_metric_data_desc['Ticker'].head(5)"
      ],
      "metadata": {
        "id": "RQv6NUJKzPhA"
      },
      "execution_count": null,
      "outputs": []
    },
    {
      "cell_type": "code",
      "source": [
        "ticker_with_max_return_clustered"
      ],
      "metadata": {
        "colab": {
          "base_uri": "https://localhost:8080/"
        },
        "id": "m2wdX7UNz3cY",
        "outputId": "345bb9ac-0351-4b16-ba94-1731393607f7"
      },
      "execution_count": null,
      "outputs": [
        {
          "output_type": "execute_result",
          "data": {
            "text/plain": [
              "15     ALL\n",
              "41     BWA\n",
              "55     AWK\n",
              "56    ALLE\n",
              "67    AAPL\n",
              "Name: Ticker, dtype: object"
            ]
          },
          "metadata": {},
          "execution_count": 14
        }
      ]
    },
    {
      "cell_type": "code",
      "source": [
        "ticker_with_max_return"
      ],
      "metadata": {
        "colab": {
          "base_uri": "https://localhost:8080/"
        },
        "id": "cT4_hFaG0oWU",
        "outputId": "55df2663-27ca-46db-deac-633b72e4b925"
      },
      "execution_count": null,
      "outputs": [
        {
          "output_type": "execute_result",
          "data": {
            "text/plain": [
              "0     APA\n",
              "1     CAH\n",
              "2    ACGL\n",
              "3     ADM\n",
              "4     WRB\n",
              "Name: Ticker, dtype: object"
            ]
          },
          "metadata": {},
          "execution_count": 15
        }
      ]
    },
    {
      "cell_type": "code",
      "source": [
        "clustered_list=['ALL','BWA','AWK','ALLE','AAPL']\n",
        "non_clustered_list = ['APA','CAH','ACGL','ADM','WRB']"
      ],
      "metadata": {
        "id": "eAcs0UOb1Oky"
      },
      "execution_count": null,
      "outputs": []
    },
    {
      "cell_type": "code",
      "source": [
        "clustered_return =[]\n",
        "for ticker in clustered_list :\n",
        "  returns=new_ticker_metric_data_desc.loc[new_ticker_metric_data_desc['Ticker'] == ticker, 'Return'].values\n",
        "  clustered_return.append(returns)"
      ],
      "metadata": {
        "id": "ZCvNpGo52-bC"
      },
      "execution_count": null,
      "outputs": []
    },
    {
      "cell_type": "code",
      "source": [
        "unclustered_return =[]\n",
        "for ticker in non_clustered_list :\n",
        "  returns=new_ticker_metric_data_desc.loc[new_ticker_metric_data_desc['Ticker'] == ticker, 'Return'].values\n",
        "  unclustered_return.append(returns)"
      ],
      "metadata": {
        "id": "as_GJKePIiIv"
      },
      "execution_count": null,
      "outputs": []
    },
    {
      "cell_type": "code",
      "source": [
        "clustured_2023 = []\n",
        "for ticker in clustered_list :\n",
        "  price_url = f'https://eodhd.com/api/eod/{ticker}.US?from=2023-01-01&period=d&api_token=6156f2d1c12e19.46412053&fmt=csv'\n",
        "  price_data = requests.get(price_url).content\n",
        "  df_price = pd.read_csv(StringIO(price_data.decode()))\n",
        "  df_price['Return'] = df_price['Adjusted_close'].pct_change()\n",
        "  average_return = df_price['Return'].mean()\n",
        "  weightage =  (new_ticker_metric_data_desc.loc[new_ticker_metric_data_desc['Ticker'] == ticker, 'Return'].values)/(sum(clustered_return))\n",
        "  clustured_2023.append(average_return*weightage)"
      ],
      "metadata": {
        "id": "DUjFlHIQ3WpH"
      },
      "execution_count": null,
      "outputs": []
    },
    {
      "cell_type": "code",
      "source": [
        "non_clustered_2023 =[]\n",
        "for ticker in non_clustered_list :\n",
        "  price_url = f'https://eodhd.com/api/eod/{ticker}.US?from=2023-01-01&period=d&api_token=6156f2d1c12e19.46412053&fmt=csv'\n",
        "  price_data = requests.get(price_url).content\n",
        "  df_price = pd.read_csv(StringIO(price_data.decode()))\n",
        "  df_price['Return'] = df_price['Adjusted_close'].pct_change()\n",
        "  average_return = df_price['Return'].mean()\n",
        "  weightage =  (new_ticker_metric_data_desc.loc[new_ticker_metric_data_desc['Ticker'] == ticker, 'Return'].values)/(sum(unclustered_return))\n",
        "  non_clustered_2023.append(average_return*weightage)"
      ],
      "metadata": {
        "id": "3CueiF_T1kiE"
      },
      "execution_count": null,
      "outputs": []
    },
    {
      "cell_type": "code",
      "source": [
        "print(sum(clustured_2023))"
      ],
      "metadata": {
        "colab": {
          "base_uri": "https://localhost:8080/"
        },
        "id": "IXWezm84EwRo",
        "outputId": "a3799de7-a3b0-4fc3-86fd-9ccda3b4e904"
      },
      "execution_count": null,
      "outputs": [
        {
          "output_type": "stream",
          "name": "stdout",
          "text": [
            "[0.00111218]\n"
          ]
        }
      ]
    },
    {
      "cell_type": "code",
      "source": [
        "print(sum(non_clustered_2023))"
      ],
      "metadata": {
        "colab": {
          "base_uri": "https://localhost:8080/"
        },
        "id": "Hn3gSFRdEwEp",
        "outputId": "bf5dcba0-66c9-4a82-83f5-17897f2ba261"
      },
      "execution_count": null,
      "outputs": [
        {
          "output_type": "stream",
          "name": "stdout",
          "text": [
            "[0.00037562]\n"
          ]
        }
      ]
    }
  ]
}